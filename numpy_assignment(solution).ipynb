{
 "cells": [
  {
   "cell_type": "markdown",
   "metadata": {},
   "source": [
    "Write a function so that the columns of the output matrix are powers of the input vector.\n",
    "\n",
    "The order of the powers is determined by the increasing boolean argument. Specifically, when increasing is False, \n",
    "the i-th output column is the input vector raised element-wise to the power of N - i - 1.\n",
    "\n"
   ]
  },
  {
   "cell_type": "code",
   "execution_count": 1,
   "metadata": {},
   "outputs": [
    {
     "data": {
      "text/plain": [
       "array([[  1,   1,   1,   1],\n",
       "       [  8,   4,   2,   1],\n",
       "       [ 27,   9,   3,   1],\n",
       "       [ 64,  16,   4,   1],\n",
       "       [125,  25,   5,   1]])"
      ]
     },
     "execution_count": 1,
     "metadata": {},
     "output_type": "execute_result"
    }
   ],
   "source": [
    "import numpy as np\n",
    "x=np.array([1, 2, 3, 4, 5])\n",
    "N=4\n",
    "np.vander(x, N)"
   ]
  },
  {
   "cell_type": "markdown",
   "metadata": {},
   "source": [
    "Problem Statement \n",
    "\n",
    "2: Given a sequence of n values x1, x2, ..., xn and a window size k>0, \n",
    "    the k-th moving average of the given sequence is defined as follows: \n",
    "        \n",
    "    The moving average sequence has n-k+1 elements as shown below. \n",
    " \n",
    "The moving averages with k=4 of a ten-value sequence (n=10) is shown below \n",
    " \n",
    "i 1  2  3  4  5  6  7  8  9 10  \n",
    "===== == == == == == == == == == == \n",
    "Input 10 20 30 40 50 60 70 80 90 100  \n",
    "y1  25 = (10+20+30+40)/4 \n",
    "y2  35 = (20+30+40+50)/4  \n",
    "y3  45 = (30+40+50+60)/4  \n",
    "y4  55 = (40+50+60+70)/4 \n",
    "y5  65 = (50+60+70+80)/4 \n",
    "y6  75 = (60+70+80+90)/4 \n",
    "y7  85 = (70+80+90+100)/4 \n",
    " \n",
    " \n",
    "Thus, the moving average sequence has n-k+1=10-4+1=7 values.\n",
    "\n",
    "Question: Write a function to find moving average in an array over a window:          \n",
    "Test it over [3, 5, 7, 2, 8, 10, 11, 65, 72, 81, 99, 100, 150] and window of 3. "
   ]
  },
  {
   "cell_type": "code",
   "execution_count": 2,
   "metadata": {},
   "outputs": [],
   "source": [
    "N=[3, 5, 7, 2, 8, 10, 11, 65, 72, 81, 99, 100, 150]\n",
    "def moving_avg(val,win):\n",
    "    wt=np.repeat(1.0,win)/win\n",
    "    ma=np.convolve(val,wt,'valid')\n",
    "    return ma\n"
   ]
  },
  {
   "cell_type": "code",
   "execution_count": 3,
   "metadata": {},
   "outputs": [
    {
     "name": "stdout",
     "output_type": "stream",
     "text": [
      "[  5.           4.66666667   5.66666667   6.66666667   9.66666667\n",
      "  28.66666667  49.33333333  72.66666667  84.          93.33333333\n",
      " 116.33333333]\n"
     ]
    }
   ],
   "source": [
    "print(moving_avg(N,3))"
   ]
  },
  {
   "cell_type": "code",
   "execution_count": null,
   "metadata": {},
   "outputs": [],
   "source": []
  }
 ],
 "metadata": {
  "kernelspec": {
   "display_name": "Python 3",
   "language": "python",
   "name": "python3"
  },
  "language_info": {
   "codemirror_mode": {
    "name": "ipython",
    "version": 3
   },
   "file_extension": ".py",
   "mimetype": "text/x-python",
   "name": "python",
   "nbconvert_exporter": "python",
   "pygments_lexer": "ipython3",
   "version": "3.7.3"
  }
 },
 "nbformat": 4,
 "nbformat_minor": 2
}
